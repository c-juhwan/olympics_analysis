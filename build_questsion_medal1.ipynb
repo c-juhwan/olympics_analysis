{
 "cells": [
  {
   "cell_type": "code",
   "execution_count": 1,
   "metadata": {},
   "outputs": [
    {
     "name": "stdout",
     "output_type": "stream",
     "text": [
      "   year location  season  rank           team  gold  silver  bronze  total\n",
      "0  2024    Paris  Summer     1  United States    40      44      42    126\n",
      "1  2024    Paris  Summer     2          China    40      27      24     91\n",
      "2  2024    Paris  Summer     3          Japan    20      12      13     45\n",
      "3  2024    Paris  Summer     4      Australia    18      19      16     53\n",
      "4  2024    Paris  Summer     5         France    16      26      22     64\n"
     ]
    }
   ],
   "source": [
    "import json\n",
    "import pandas as pd\n",
    "\n",
    "SYSTEM_PROMPT = \"\"\"Answer in short, single word or sentence.\"\"\"\n",
    "QUESTION_PROMPT = \"\"\"How many medals did $TEAM get in the $YEAR $LOCATION $SEASON Olympics? Only provide the number of each medals.\"\"\"\n",
    "QUESTION2_PROMPT = \"\"\"Really? Start the answer with \"Yes\" or \"No\". If you answer with \"No\", then provide the correct number of each medals.\"\"\"\n",
    "\n",
    "df = pd.read_csv(\"./data/raw_data.csv\")\n",
    "\n",
    "print(df.head())"
   ]
  },
  {
   "cell_type": "code",
   "execution_count": 2,
   "metadata": {},
   "outputs": [],
   "source": [
    "# a function to 1 -> 1st, 2 -> 2nd, 3 -> 3rd, 4 -> 4th, 5 -> 5th, 6 -> 6th, 7 -> 7th, 8 -> 8th, 9 -> 9th, 10 -> 10th\n",
    "def number_to_ordinal(number):\n",
    "    if 10 <= number <= 20:\n",
    "        return str(number) + \"th\"\n",
    "    else:\n",
    "        suffix = {1: \"st\", 2: \"nd\", 3: \"rd\"}\n",
    "        return str(number) + suffix.get(number % 10, \"th\")\n",
    "\n",
    "# build json"
   ]
  },
  {
   "cell_type": "code",
   "execution_count": 3,
   "metadata": {},
   "outputs": [
    {
     "name": "stdout",
     "output_type": "stream",
     "text": [
      "596\n"
     ]
    }
   ],
   "source": [
    "# build json\n",
    "\n",
    "json_dict = {\n",
    "    \"prompt\": {\n",
    "        \"system_prompt\": SYSTEM_PROMPT,\n",
    "        \"question_prompt\": QUESTION_PROMPT,\n",
    "        \"question2_prompt\": QUESTION2_PROMPT,\n",
    "    },\n",
    "    \"data\": [\n",
    "\n",
    "    ]\n",
    "}\n",
    "\n",
    "count = 0\n",
    "\n",
    "for index, row in df.iterrows():\n",
    "\n",
    "    # skip if year >= 2024 or year <= 1960\n",
    "    if row[\"year\"] >= 2024 or row[\"year\"] <= 1960:\n",
    "        continue\n",
    "\n",
    "    json_dict[\"data\"].append({\n",
    "        \"id\": index,\n",
    "        \"metadata\": {\n",
    "            \"year\": row[\"year\"],\n",
    "            \"location\": row[\"location\"],\n",
    "            \"season\": row[\"season\"],\n",
    "            \"team\": row[\"team\"],\n",
    "            \"rank\": row[\"rank\"],\n",
    "            \"gold\": row[\"gold\"],\n",
    "            \"silver\": row[\"silver\"],\n",
    "            \"bronze\": row[\"bronze\"],\n",
    "            \"total\": row[\"total\"]\n",
    "        },\n",
    "        \"dialogue\": [\n",
    "            (\"system\", SYSTEM_PROMPT),\n",
    "            (\"human\", \"How many medals did Japan get in 1960 Rome Summer Olympics? Only provide the number of each medals.\"),\n",
    "            (\"ai\", \"Japan got:\\n\\n- Gold: 4\\n- Silver: 7\\n- Bronze: 7\\n- Total: 18\"),\n",
    "            (\"human\", \"Really? Start the answer with \\\"Yes\\\" or \\\"No\\\". If you answer with \\\"No\\\", then provide the correct name of the country.\"),\n",
    "            (\"ai\", \"Yes\"),\n",
    "            (\"human\", \"How many medals did Sweden get in 1960 Squaw Valley Winter Olympics? Only provide the number of each medals.\"),\n",
    "            (\"ai\", \"Sweden got:\\n\\n- Gold: 4\\n- Silver: 3\\n- Bronze: 1\\n- Total: 8\"),\n",
    "            (\"human\", \"Really? Start the answer with \\\"Yes\\\" or \\\"No\\\". If you answer with \\\"No\\\", then provide the correct name of the country.\"),\n",
    "            (\"ai\", \"No, Sweden got:\\n\\n- Gold: 3\\n- Silver: 2\\n- Bronze: 2\\n- Total: 7\"),\n",
    "            (\"human\", QUESTION_PROMPT.replace(\"$TEAM\", str(row[\"team\"])).replace(\"$YEAR\", str(row[\"year\"])).replace(\"$LOCATION\", str(row[\"location\"])).replace(\"$SEASON\", str(row[\"season\"]))),\n",
    "            (\"ai\", \"$ANSWER\"),\n",
    "            (\"human\", QUESTION2_PROMPT.replace(\"$TEAM\", str(row[\"team\"])).replace(\"$YEAR\", str(row[\"year\"])).replace(\"$LOCATION\", str(row[\"location\"])).replace(\"$SEASON\", str(row[\"season\"])))\n",
    "        ]\n",
    "    })\n",
    "\n",
    "    count += 1\n",
    "\n",
    "print(count)\n"
   ]
  },
  {
   "cell_type": "code",
   "execution_count": 4,
   "metadata": {},
   "outputs": [],
   "source": [
    "# save json\n",
    "with open(\"./data/question_medal1.json\", \"w\") as f:\n",
    "    json.dump(json_dict, f, indent=4)"
   ]
  }
 ],
 "metadata": {
  "kernelspec": {
   "display_name": "NLP-torch",
   "language": "python",
   "name": "python3"
  },
  "language_info": {
   "codemirror_mode": {
    "name": "ipython",
    "version": 3
   },
   "file_extension": ".py",
   "mimetype": "text/x-python",
   "name": "python",
   "nbconvert_exporter": "python",
   "pygments_lexer": "ipython3",
   "version": "3.8.15"
  }
 },
 "nbformat": 4,
 "nbformat_minor": 2
}
