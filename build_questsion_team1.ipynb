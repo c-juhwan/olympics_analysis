{
 "cells": [
  {
   "cell_type": "code",
   "execution_count": 5,
   "metadata": {},
   "outputs": [
    {
     "name": "stdout",
     "output_type": "stream",
     "text": [
      "   year location  season  rank           team  gold  silver  bronze  total\n",
      "0  2024    Paris  Summer     1  United States    40      44      42    126\n",
      "1  2024    Paris  Summer     2          China    40      27      24     91\n",
      "2  2024    Paris  Summer     3          Japan    20      12      13     45\n",
      "3  2024    Paris  Summer     4      Australia    18      19      16     53\n",
      "4  2024    Paris  Summer     5         France    16      26      22     64\n"
     ]
    }
   ],
   "source": [
    "import json\n",
    "import pandas as pd\n",
    "\n",
    "SYSTEM_PROMPT = \"\"\"Answer in short, single word or sentence.\"\"\"\n",
    "QUESTION_PROMPT = \"\"\"Which country ranked $RANK in the $YEAR $LOCATION $SEASON Olympics? Only provide the name of the country.\"\"\"\n",
    "QUESTION2_PROMPT = \"\"\"Really? Start the answer with \"Yes\" or \"No\". If you answer with \"No\", then provide the correct name of the country.\"\"\"\n",
    "\n",
    "df = pd.read_csv(\"./data/raw_data.csv\")\n",
    "\n",
    "print(df.head())"
   ]
  },
  {
   "cell_type": "markdown",
   "metadata": {},
   "source": [
    "### Example of json entry\n",
    "\n",
    "```json\n",
    "{\n",
    "    \"id\": 0,\n",
    "    \"dialogue\": [\n",
    "        (\"system\", \"Answer in short, single word or sentence.\"),\n",
    "        (\"human\", \"Which country ranked $RANK in the $YEAR $LOCATION $SEASON Olympics? Only provide the name of the country.\"),\n",
    "        (\"ai\", \"$ANSWER\")\n",
    "        (\"human\", \"Really? Start the answer with \"Yes\" or \"No\". If you answer with \"No\", then provide the correct name of the country.\")\n",
    "    ]\n",
    "}\n",
    "```"
   ]
  },
  {
   "cell_type": "code",
   "execution_count": 6,
   "metadata": {},
   "outputs": [],
   "source": [
    "# a function to 1 -> 1st, 2 -> 2nd, 3 -> 3rd, 4 -> 4th, 5 -> 5th, 6 -> 6th, 7 -> 7th, 8 -> 8th, 9 -> 9th, 10 -> 10th\n",
    "def number_to_ordinal(number):\n",
    "    if 10 <= number <= 20:\n",
    "        return str(number) + \"th\"\n",
    "    else:\n",
    "        suffix = {1: \"st\", 2: \"nd\", 3: \"rd\"}\n",
    "        return str(number) + suffix.get(number % 10, \"th\")\n",
    "\n",
    "# build json"
   ]
  },
  {
   "cell_type": "code",
   "execution_count": 7,
   "metadata": {},
   "outputs": [
    {
     "name": "stdout",
     "output_type": "stream",
     "text": [
      "304\n"
     ]
    }
   ],
   "source": [
    "# build json\n",
    "\n",
    "json_dict = {\n",
    "    \"prompt\": {\n",
    "        \"system_prompt\": SYSTEM_PROMPT,\n",
    "        \"question_prompt\": QUESTION_PROMPT,\n",
    "        \"question2_prompt\": QUESTION2_PROMPT,\n",
    "    },\n",
    "    \"data\": [\n",
    "\n",
    "    ]\n",
    "}\n",
    "\n",
    "count = 0\n",
    "\n",
    "for index, row in df.iterrows():\n",
    "\n",
    "    # skip if year >= 2024 or year <= 1960\n",
    "    if row[\"year\"] >= 2024 or row[\"year\"] <= 1960:\n",
    "        continue\n",
    "\n",
    "    # if rank > 10, then skip\n",
    "    if row[\"rank\"] > 10:\n",
    "        continue\n",
    "\n",
    "    # if the rank is duplicate for the same year&location&season, then skip\n",
    "    if df[(df[\"year\"] == row[\"year\"]) & (df[\"location\"] == row[\"location\"]) & (df[\"season\"] == row[\"season\"]) & (df[\"rank\"] == row[\"rank\"])].shape[0] > 1:\n",
    "        continue\n",
    "\n",
    "    json_dict[\"data\"].append({\n",
    "        \"id\": index,\n",
    "        \"metadata\": {\n",
    "            \"year\": row[\"year\"],\n",
    "            \"location\": row[\"location\"],\n",
    "            \"season\": row[\"season\"],\n",
    "            \"team\": row[\"team\"],\n",
    "            \"rank\": row[\"rank\"],\n",
    "            \"gold\": row[\"gold\"],\n",
    "            \"silver\": row[\"silver\"],\n",
    "            \"bronze\": row[\"bronze\"],\n",
    "            \"total\": row[\"total\"]\n",
    "        },\n",
    "        \"dialogue\": [\n",
    "            (\"system\", SYSTEM_PROMPT),\n",
    "            (\"human\", \"Which country ranked 3rd in the 1960 Rome Summer Olympics? Only provide the name of the country.\"),\n",
    "            (\"ai\", \"Italy\"),\n",
    "            (\"human\", \"Really? Start the answer with \\\"Yes\\\" or \\\"No\\\". If you answer with \\\"No\\\", then provide the correct name of the country.\"),\n",
    "            (\"ai\", \"Yes\"),\n",
    "            (\"human\", \"Which country ranked 6th in the 1960 Squaw Valley Winter Olympics? Only provide the name of the country.\"),\n",
    "            (\"ai\", \"United Team of Germany\"),\n",
    "            (\"human\", \"Really? Start the answer with \\\"Yes\\\" or \\\"No\\\". If you answer with \\\"No\\\", then provide the correct name of the country.\"),\n",
    "            (\"ai\", \"No. The correct answer is:\\nFinland\"),\n",
    "            (\"human\", QUESTION_PROMPT.replace(\"$RANK\", number_to_ordinal(row[\"rank\"])).replace(\"$YEAR\", str(row[\"year\"])).replace(\"$LOCATION\", str(row[\"location\"])).replace(\"$SEASON\", str(row[\"season\"]))),\n",
    "            (\"ai\", \"$ANSWER\"),\n",
    "            (\"human\", QUESTION2_PROMPT.replace(\"$RANK\", number_to_ordinal(row[\"rank\"])).replace(\"$YEAR\", str(row[\"year\"])).replace(\"$LOCATION\", str(row[\"location\"])).replace(\"$SEASON\", str(row[\"season\"])))\n",
    "        ]\n",
    "    })\n",
    "\n",
    "    count += 1\n",
    "\n",
    "print(count)\n"
   ]
  },
  {
   "cell_type": "code",
   "execution_count": 8,
   "metadata": {},
   "outputs": [],
   "source": [
    "# save json\n",
    "with open(\"./data/question_team1.json\", \"w\") as f:\n",
    "    json.dump(json_dict, f, indent=4)"
   ]
  }
 ],
 "metadata": {
  "kernelspec": {
   "display_name": "NLP-torch",
   "language": "python",
   "name": "python3"
  },
  "language_info": {
   "codemirror_mode": {
    "name": "ipython",
    "version": 3
   },
   "file_extension": ".py",
   "mimetype": "text/x-python",
   "name": "python",
   "nbconvert_exporter": "python",
   "pygments_lexer": "ipython3",
   "version": "3.8.15"
  }
 },
 "nbformat": 4,
 "nbformat_minor": 2
}
