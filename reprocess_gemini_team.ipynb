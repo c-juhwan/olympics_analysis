{
 "cells": [
  {
   "cell_type": "code",
   "execution_count": 37,
   "metadata": {},
   "outputs": [],
   "source": [
    "import re\n",
    "import json\n",
    "from rapidfuzz import fuzz\n",
    "\n",
    "with open('./result/answer_team1_gemini-1.5-flash-001.json') as f:\n",
    "    data = json.load(f)"
   ]
  },
  {
   "cell_type": "code",
   "execution_count": 38,
   "metadata": {},
   "outputs": [],
   "source": [
    "# Function to determine if names are equivalent using fuzzy matching\n",
    "def are_equivalent(name1, name2, threshold=70):\n",
    "    name1 = re.sub(r'[^a-z\\s]', '', name1.lower())\n",
    "    name2 = re.sub(r'[^a-z\\s]', '', name2.lower())\n",
    "\n",
    "    if name1 == name2:\n",
    "        return True\n",
    "\n",
    "    if fuzz.ratio(name1, name2) > threshold:\n",
    "        return True\n",
    "    else:\n",
    "        return False"
   ]
  },
  {
   "cell_type": "code",
   "execution_count": 39,
   "metadata": {},
   "outputs": [
    {
     "name": "stdout",
     "output_type": "stream",
     "text": [
      "No. Norway \n",
      " No. Norway \n",
      "No. Russia \n",
      " No. Russia \n",
      "No. Canada \n",
      " No. Canada \n",
      "No. Canada \n",
      " No. Canada \n",
      "No. Canada \n",
      " No. Canada \n",
      "No.  Germany \n",
      " No.  Germany \n",
      "No. Russia \n",
      " No. Russia \n",
      "No. Austria \n",
      " No. Austria \n",
      "No. Germany \n",
      " No. Germany \n",
      "No. Germany \n",
      " No. Germany \n",
      "No.  The correct answer is Russia. \n",
      " No.  The correct answer is Russia. \n",
      "No.  Russia \n",
      " No.  Russia \n",
      "No.  Russia \n",
      " No.  Russia \n",
      "No. Australia \n",
      " No. Australia \n",
      "No. Norway \n",
      " No. Norway \n",
      "No. Norway \n",
      " No. Norway \n",
      "No. Russia \n",
      " No. Russia \n",
      "No.  Germany \n",
      " No.  Germany \n",
      "No. Norway \n",
      " No. Norway \n",
      "No. East Germany \n",
      " No. East Germany \n"
     ]
    }
   ],
   "source": [
    "for each_data in data[\"data\"]:\n",
    "    dialogue = each_data[\"dialogue\"]\n",
    "    if not dialogue[-1][1].startswith(\"Yes\"):\n",
    "        #print(dialogue[-1][1])\n",
    "        try:\n",
    "            response = dialogue[-1][1].split(\"The correct answer is:\")[1].strip()\n",
    "        except:\n",
    "            response = dialogue[-1][1].split(\"\\n\")[0]\n",
    "            print(dialogue[-1][1], response)\n",
    "\n",
    "        each_data[\"final_answer\"] = {\n",
    "            \"team\": response,\n",
    "            \"team_correct\": are_equivalent(response, each_data[\"metadata\"][\"team\"])\n",
    "        }\n",
    "        each_data[\"dialogue\"][-1][1] = response\n",
    "\n",
    "    # Calculate the accuracy\n",
    "    team_correct_count = sum(each_data[\"final_answer\"][\"team_correct\"] for each_data in data[\"data\"])\n",
    "    total_data_count = len(data[\"data\"])\n",
    "\n",
    "    data[\"result\"][\"final_answer_accuracy\"] = {\n",
    "        \"team\": team_correct_count / total_data_count\n",
    "    }\n",
    "\n",
    "with open('./result/answer_team1_gemini-1.5-flash-001_reprocessed.json', 'w') as f:\n",
    "    json.dump(data, f, indent=4)"
   ]
  }
 ],
 "metadata": {
  "kernelspec": {
   "display_name": "proj-olympics",
   "language": "python",
   "name": "python3"
  },
  "language_info": {
   "codemirror_mode": {
    "name": "ipython",
    "version": 3
   },
   "file_extension": ".py",
   "mimetype": "text/x-python",
   "name": "python",
   "nbconvert_exporter": "python",
   "pygments_lexer": "ipython3",
   "version": "3.9.19"
  }
 },
 "nbformat": 4,
 "nbformat_minor": 2
}
